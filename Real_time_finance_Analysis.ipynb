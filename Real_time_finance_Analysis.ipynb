{
 "cells": [
  {
   "cell_type": "code",
   "execution_count": 2,
   "id": "26809c0b-b532-45eb-8d98-e5a386c9ab66",
   "metadata": {},
   "outputs": [
    {
     "name": "stdout",
     "output_type": "stream",
     "text": [
      "{'status': 'OK', 'request_id': '89af2edf-8f34-4b05-b037-d9230089384f', 'data': {'symbol': 'AAPL:NASDAQ', 'type': 'stock', 'cash_flow': [{'date': '2024-9-28', 'year': 2024, 'month': 9, 'day': 28, 'currency': 'USD', 'net_income': 14736000000, 'cash_from_operations': 26811000000, 'cash_from_investing': 1445000000, 'cash_from_financing': -24948000000, 'net_change_in_cash': 3308000000, 'free_cash_flow': 34538375000}, {'date': '2024-6-29', 'year': 2024, 'month': 6, 'day': 29, 'currency': 'USD', 'net_income': 21448000000, 'cash_from_operations': 28858000000, 'cash_from_investing': -127000000, 'cash_from_financing': -36017000000, 'net_change_in_cash': -7286000000, 'free_cash_flow': 22498000000}, {'date': '2024-3-30', 'year': 2024, 'month': 3, 'day': 30, 'currency': 'USD', 'net_income': 23636000000, 'cash_from_operations': 22690000000, 'cash_from_investing': -310000000, 'cash_from_financing': -30433000000, 'net_change_in_cash': -8053000000, 'free_cash_flow': 20609500000}, {'date': '2024-12-30', 'year': 2024, 'month': 12, 'day': 30, 'currency': 'USD', 'net_income': 33916000000, 'cash_from_operations': 39895000000, 'cash_from_investing': 1927000000, 'cash_from_financing': -30585000000, 'net_change_in_cash': 11237000000, 'free_cash_flow': 33200125000}, {'date': '2023-9-30', 'year': 2023, 'month': 9, 'day': 30, 'currency': 'USD', 'net_income': 22956000000, 'cash_from_operations': 21598000000, 'cash_from_investing': 2394000000, 'cash_from_financing': -23153000000, 'net_change_in_cash': 839000000, 'free_cash_flow': 12308625000}, {'date': '2023-7-1', 'year': 2023, 'month': 7, 'day': 1, 'currency': 'USD', 'net_income': 19881000000, 'cash_from_operations': 26380000000, 'cash_from_investing': 437000000, 'cash_from_financing': -24048000000, 'net_change_in_cash': 2769000000, 'free_cash_flow': 21066750000}, {'date': '2023-4-1', 'year': 2023, 'month': 4, 'day': 1, 'currency': 'USD', 'net_income': 24160000000, 'cash_from_operations': 28560000000, 'cash_from_investing': 2319000000, 'cash_from_financing': -25724000000, 'net_change_in_cash': 5155000000, 'free_cash_flow': 22445750000}, {'date': '2023-12-31', 'year': 2023, 'month': 12, 'day': 31, 'currency': 'USD', 'net_income': 29998000000, 'cash_from_operations': 34005000000, 'cash_from_investing': -1445000000, 'cash_from_financing': -35563000000, 'net_change_in_cash': -3003000000, 'free_cash_flow': 28817000000}, {'date': '2022-9-24', 'year': 2022, 'month': 9, 'day': 24, 'currency': 'USD', 'net_income': 20721000000, 'cash_from_operations': 24127000000, 'cash_from_investing': -1217000000, 'cash_from_financing': -26794000000, 'net_change_in_cash': -3884000000, 'free_cash_flow': 20182875000}], 'period': 'QUARTERLY'}}\n"
     ]
    }
   ],
   "source": [
    "import requests\n",
    "\n",
    "url = \"https://real-time-finance-data.p.rapidapi.com/company-cash-flow\"\n",
    "\n",
    "querystring = {\"symbol\":\"AAPL:NASDAQ\",\"period\":\"QUARTERLY\",\"language\":\"en\"}\n",
    "\n",
    "headers = {\n",
    "\t\"x-rapidapi-key\": \"84fe14bf83msh0bf8f81ffe0b0d3p1a8fcejsna6d8fb35c16b\",\n",
    "\t\"x-rapidapi-host\": \"real-time-finance-data.p.rapidapi.com\"\n",
    "}\n",
    "\n",
    "response = requests.get(url, headers=headers, params=querystring)\n",
    "\n",
    "df=print(response.json())\n",
    "df"
   ]
  },
  {
   "cell_type": "code",
   "execution_count": 5,
   "id": "5577ebb2-42ee-4ced-b96d-16fe1c3d3d18",
   "metadata": {},
   "outputs": [],
   "source": [
    "import pandas as pd"
   ]
  },
  {
   "cell_type": "code",
   "execution_count": 14,
   "id": "9e77b92a-6dc3-4d7d-8907-1d400f0b1fd0",
   "metadata": {},
   "outputs": [
    {
     "data": {
      "text/html": [
       "<div>\n",
       "<style scoped>\n",
       "    .dataframe tbody tr th:only-of-type {\n",
       "        vertical-align: middle;\n",
       "    }\n",
       "\n",
       "    .dataframe tbody tr th {\n",
       "        vertical-align: top;\n",
       "    }\n",
       "\n",
       "    .dataframe thead th {\n",
       "        text-align: right;\n",
       "    }\n",
       "</style>\n",
       "<table border=\"1\" class=\"dataframe\">\n",
       "  <thead>\n",
       "    <tr style=\"text-align: right;\">\n",
       "      <th></th>\n",
       "      <th>status</th>\n",
       "      <th>request_id</th>\n",
       "      <th>data</th>\n",
       "    </tr>\n",
       "  </thead>\n",
       "  <tbody>\n",
       "    <tr>\n",
       "      <th>symbol</th>\n",
       "      <td>OK</td>\n",
       "      <td>89af2edf-8f34-4b05-b037-d9230089384f</td>\n",
       "      <td>AAPL:NASDAQ</td>\n",
       "    </tr>\n",
       "    <tr>\n",
       "      <th>type</th>\n",
       "      <td>OK</td>\n",
       "      <td>89af2edf-8f34-4b05-b037-d9230089384f</td>\n",
       "      <td>stock</td>\n",
       "    </tr>\n",
       "    <tr>\n",
       "      <th>cash_flow</th>\n",
       "      <td>OK</td>\n",
       "      <td>89af2edf-8f34-4b05-b037-d9230089384f</td>\n",
       "      <td>[{'date': '2024-9-28', 'year': 2024, 'month': ...</td>\n",
       "    </tr>\n",
       "    <tr>\n",
       "      <th>period</th>\n",
       "      <td>OK</td>\n",
       "      <td>89af2edf-8f34-4b05-b037-d9230089384f</td>\n",
       "      <td>QUARTERLY</td>\n",
       "    </tr>\n",
       "  </tbody>\n",
       "</table>\n",
       "</div>"
      ],
      "text/plain": [
       "          status                            request_id  \\\n",
       "symbol        OK  89af2edf-8f34-4b05-b037-d9230089384f   \n",
       "type          OK  89af2edf-8f34-4b05-b037-d9230089384f   \n",
       "cash_flow     OK  89af2edf-8f34-4b05-b037-d9230089384f   \n",
       "period        OK  89af2edf-8f34-4b05-b037-d9230089384f   \n",
       "\n",
       "                                                        data  \n",
       "symbol                                           AAPL:NASDAQ  \n",
       "type                                                   stock  \n",
       "cash_flow  [{'date': '2024-9-28', 'year': 2024, 'month': ...  \n",
       "period                                             QUARTERLY  "
      ]
     },
     "execution_count": 14,
     "metadata": {},
     "output_type": "execute_result"
    }
   ],
   "source": [
    "data=pd.DataFrame(response.json())\n",
    "data"
   ]
  },
  {
   "cell_type": "code",
   "execution_count": 28,
   "id": "aee19b8b-e259-46b5-b7e4-fae9bf6d270f",
   "metadata": {},
   "outputs": [
    {
     "data": {
      "text/html": [
       "<div>\n",
       "<style scoped>\n",
       "    .dataframe tbody tr th:only-of-type {\n",
       "        vertical-align: middle;\n",
       "    }\n",
       "\n",
       "    .dataframe tbody tr th {\n",
       "        vertical-align: top;\n",
       "    }\n",
       "\n",
       "    .dataframe thead th {\n",
       "        text-align: right;\n",
       "    }\n",
       "</style>\n",
       "<table border=\"1\" class=\"dataframe\">\n",
       "  <thead>\n",
       "    <tr style=\"text-align: right;\">\n",
       "      <th></th>\n",
       "      <th>symbol</th>\n",
       "      <th>type</th>\n",
       "      <th>cash_flow</th>\n",
       "      <th>period</th>\n",
       "    </tr>\n",
       "  </thead>\n",
       "  <tbody>\n",
       "    <tr>\n",
       "      <th>0</th>\n",
       "      <td>AAPL:NASDAQ</td>\n",
       "      <td>stock</td>\n",
       "      <td>{'date': '2024-9-28', 'year': 2024, 'month': 9...</td>\n",
       "      <td>QUARTERLY</td>\n",
       "    </tr>\n",
       "    <tr>\n",
       "      <th>1</th>\n",
       "      <td>AAPL:NASDAQ</td>\n",
       "      <td>stock</td>\n",
       "      <td>{'date': '2024-6-29', 'year': 2024, 'month': 6...</td>\n",
       "      <td>QUARTERLY</td>\n",
       "    </tr>\n",
       "    <tr>\n",
       "      <th>2</th>\n",
       "      <td>AAPL:NASDAQ</td>\n",
       "      <td>stock</td>\n",
       "      <td>{'date': '2024-3-30', 'year': 2024, 'month': 3...</td>\n",
       "      <td>QUARTERLY</td>\n",
       "    </tr>\n",
       "    <tr>\n",
       "      <th>3</th>\n",
       "      <td>AAPL:NASDAQ</td>\n",
       "      <td>stock</td>\n",
       "      <td>{'date': '2024-12-30', 'year': 2024, 'month': ...</td>\n",
       "      <td>QUARTERLY</td>\n",
       "    </tr>\n",
       "    <tr>\n",
       "      <th>4</th>\n",
       "      <td>AAPL:NASDAQ</td>\n",
       "      <td>stock</td>\n",
       "      <td>{'date': '2023-9-30', 'year': 2023, 'month': 9...</td>\n",
       "      <td>QUARTERLY</td>\n",
       "    </tr>\n",
       "    <tr>\n",
       "      <th>5</th>\n",
       "      <td>AAPL:NASDAQ</td>\n",
       "      <td>stock</td>\n",
       "      <td>{'date': '2023-7-1', 'year': 2023, 'month': 7,...</td>\n",
       "      <td>QUARTERLY</td>\n",
       "    </tr>\n",
       "    <tr>\n",
       "      <th>6</th>\n",
       "      <td>AAPL:NASDAQ</td>\n",
       "      <td>stock</td>\n",
       "      <td>{'date': '2023-4-1', 'year': 2023, 'month': 4,...</td>\n",
       "      <td>QUARTERLY</td>\n",
       "    </tr>\n",
       "    <tr>\n",
       "      <th>7</th>\n",
       "      <td>AAPL:NASDAQ</td>\n",
       "      <td>stock</td>\n",
       "      <td>{'date': '2023-12-31', 'year': 2023, 'month': ...</td>\n",
       "      <td>QUARTERLY</td>\n",
       "    </tr>\n",
       "    <tr>\n",
       "      <th>8</th>\n",
       "      <td>AAPL:NASDAQ</td>\n",
       "      <td>stock</td>\n",
       "      <td>{'date': '2022-9-24', 'year': 2022, 'month': 9...</td>\n",
       "      <td>QUARTERLY</td>\n",
       "    </tr>\n",
       "  </tbody>\n",
       "</table>\n",
       "</div>"
      ],
      "text/plain": [
       "        symbol   type                                          cash_flow  \\\n",
       "0  AAPL:NASDAQ  stock  {'date': '2024-9-28', 'year': 2024, 'month': 9...   \n",
       "1  AAPL:NASDAQ  stock  {'date': '2024-6-29', 'year': 2024, 'month': 6...   \n",
       "2  AAPL:NASDAQ  stock  {'date': '2024-3-30', 'year': 2024, 'month': 3...   \n",
       "3  AAPL:NASDAQ  stock  {'date': '2024-12-30', 'year': 2024, 'month': ...   \n",
       "4  AAPL:NASDAQ  stock  {'date': '2023-9-30', 'year': 2023, 'month': 9...   \n",
       "5  AAPL:NASDAQ  stock  {'date': '2023-7-1', 'year': 2023, 'month': 7,...   \n",
       "6  AAPL:NASDAQ  stock  {'date': '2023-4-1', 'year': 2023, 'month': 4,...   \n",
       "7  AAPL:NASDAQ  stock  {'date': '2023-12-31', 'year': 2023, 'month': ...   \n",
       "8  AAPL:NASDAQ  stock  {'date': '2022-9-24', 'year': 2022, 'month': 9...   \n",
       "\n",
       "      period  \n",
       "0  QUARTERLY  \n",
       "1  QUARTERLY  \n",
       "2  QUARTERLY  \n",
       "3  QUARTERLY  \n",
       "4  QUARTERLY  \n",
       "5  QUARTERLY  \n",
       "6  QUARTERLY  \n",
       "7  QUARTERLY  \n",
       "8  QUARTERLY  "
      ]
     },
     "execution_count": 28,
     "metadata": {},
     "output_type": "execute_result"
    }
   ],
   "source": [
    "data_1=pd.DataFrame(response.json()['data'])\n",
    "data_1"
   ]
  },
  {
   "cell_type": "code",
   "execution_count": 30,
   "id": "82ff9d60-ef3b-40ba-b9f1-3047a47cea60",
   "metadata": {},
   "outputs": [
    {
     "data": {
      "text/html": [
       "<div>\n",
       "<style scoped>\n",
       "    .dataframe tbody tr th:only-of-type {\n",
       "        vertical-align: middle;\n",
       "    }\n",
       "\n",
       "    .dataframe tbody tr th {\n",
       "        vertical-align: top;\n",
       "    }\n",
       "\n",
       "    .dataframe thead th {\n",
       "        text-align: right;\n",
       "    }\n",
       "</style>\n",
       "<table border=\"1\" class=\"dataframe\">\n",
       "  <thead>\n",
       "    <tr style=\"text-align: right;\">\n",
       "      <th></th>\n",
       "      <th>date</th>\n",
       "      <th>year</th>\n",
       "      <th>month</th>\n",
       "      <th>day</th>\n",
       "      <th>currency</th>\n",
       "      <th>net_income</th>\n",
       "      <th>cash_from_operations</th>\n",
       "      <th>cash_from_investing</th>\n",
       "      <th>cash_from_financing</th>\n",
       "      <th>net_change_in_cash</th>\n",
       "      <th>free_cash_flow</th>\n",
       "    </tr>\n",
       "  </thead>\n",
       "  <tbody>\n",
       "    <tr>\n",
       "      <th>0</th>\n",
       "      <td>2024-9-28</td>\n",
       "      <td>2024</td>\n",
       "      <td>9</td>\n",
       "      <td>28</td>\n",
       "      <td>USD</td>\n",
       "      <td>14736000000</td>\n",
       "      <td>26811000000</td>\n",
       "      <td>1445000000</td>\n",
       "      <td>-24948000000</td>\n",
       "      <td>3308000000</td>\n",
       "      <td>34538375000</td>\n",
       "    </tr>\n",
       "    <tr>\n",
       "      <th>1</th>\n",
       "      <td>2024-6-29</td>\n",
       "      <td>2024</td>\n",
       "      <td>6</td>\n",
       "      <td>29</td>\n",
       "      <td>USD</td>\n",
       "      <td>21448000000</td>\n",
       "      <td>28858000000</td>\n",
       "      <td>-127000000</td>\n",
       "      <td>-36017000000</td>\n",
       "      <td>-7286000000</td>\n",
       "      <td>22498000000</td>\n",
       "    </tr>\n",
       "    <tr>\n",
       "      <th>2</th>\n",
       "      <td>2024-3-30</td>\n",
       "      <td>2024</td>\n",
       "      <td>3</td>\n",
       "      <td>30</td>\n",
       "      <td>USD</td>\n",
       "      <td>23636000000</td>\n",
       "      <td>22690000000</td>\n",
       "      <td>-310000000</td>\n",
       "      <td>-30433000000</td>\n",
       "      <td>-8053000000</td>\n",
       "      <td>20609500000</td>\n",
       "    </tr>\n",
       "    <tr>\n",
       "      <th>3</th>\n",
       "      <td>2024-12-30</td>\n",
       "      <td>2024</td>\n",
       "      <td>12</td>\n",
       "      <td>30</td>\n",
       "      <td>USD</td>\n",
       "      <td>33916000000</td>\n",
       "      <td>39895000000</td>\n",
       "      <td>1927000000</td>\n",
       "      <td>-30585000000</td>\n",
       "      <td>11237000000</td>\n",
       "      <td>33200125000</td>\n",
       "    </tr>\n",
       "    <tr>\n",
       "      <th>4</th>\n",
       "      <td>2023-9-30</td>\n",
       "      <td>2023</td>\n",
       "      <td>9</td>\n",
       "      <td>30</td>\n",
       "      <td>USD</td>\n",
       "      <td>22956000000</td>\n",
       "      <td>21598000000</td>\n",
       "      <td>2394000000</td>\n",
       "      <td>-23153000000</td>\n",
       "      <td>839000000</td>\n",
       "      <td>12308625000</td>\n",
       "    </tr>\n",
       "    <tr>\n",
       "      <th>5</th>\n",
       "      <td>2023-7-1</td>\n",
       "      <td>2023</td>\n",
       "      <td>7</td>\n",
       "      <td>1</td>\n",
       "      <td>USD</td>\n",
       "      <td>19881000000</td>\n",
       "      <td>26380000000</td>\n",
       "      <td>437000000</td>\n",
       "      <td>-24048000000</td>\n",
       "      <td>2769000000</td>\n",
       "      <td>21066750000</td>\n",
       "    </tr>\n",
       "    <tr>\n",
       "      <th>6</th>\n",
       "      <td>2023-4-1</td>\n",
       "      <td>2023</td>\n",
       "      <td>4</td>\n",
       "      <td>1</td>\n",
       "      <td>USD</td>\n",
       "      <td>24160000000</td>\n",
       "      <td>28560000000</td>\n",
       "      <td>2319000000</td>\n",
       "      <td>-25724000000</td>\n",
       "      <td>5155000000</td>\n",
       "      <td>22445750000</td>\n",
       "    </tr>\n",
       "    <tr>\n",
       "      <th>7</th>\n",
       "      <td>2023-12-31</td>\n",
       "      <td>2023</td>\n",
       "      <td>12</td>\n",
       "      <td>31</td>\n",
       "      <td>USD</td>\n",
       "      <td>29998000000</td>\n",
       "      <td>34005000000</td>\n",
       "      <td>-1445000000</td>\n",
       "      <td>-35563000000</td>\n",
       "      <td>-3003000000</td>\n",
       "      <td>28817000000</td>\n",
       "    </tr>\n",
       "    <tr>\n",
       "      <th>8</th>\n",
       "      <td>2022-9-24</td>\n",
       "      <td>2022</td>\n",
       "      <td>9</td>\n",
       "      <td>24</td>\n",
       "      <td>USD</td>\n",
       "      <td>20721000000</td>\n",
       "      <td>24127000000</td>\n",
       "      <td>-1217000000</td>\n",
       "      <td>-26794000000</td>\n",
       "      <td>-3884000000</td>\n",
       "      <td>20182875000</td>\n",
       "    </tr>\n",
       "  </tbody>\n",
       "</table>\n",
       "</div>"
      ],
      "text/plain": [
       "         date  year  month  day currency   net_income  cash_from_operations  \\\n",
       "0   2024-9-28  2024      9   28      USD  14736000000           26811000000   \n",
       "1   2024-6-29  2024      6   29      USD  21448000000           28858000000   \n",
       "2   2024-3-30  2024      3   30      USD  23636000000           22690000000   \n",
       "3  2024-12-30  2024     12   30      USD  33916000000           39895000000   \n",
       "4   2023-9-30  2023      9   30      USD  22956000000           21598000000   \n",
       "5    2023-7-1  2023      7    1      USD  19881000000           26380000000   \n",
       "6    2023-4-1  2023      4    1      USD  24160000000           28560000000   \n",
       "7  2023-12-31  2023     12   31      USD  29998000000           34005000000   \n",
       "8   2022-9-24  2022      9   24      USD  20721000000           24127000000   \n",
       "\n",
       "   cash_from_investing  cash_from_financing  net_change_in_cash  \\\n",
       "0           1445000000         -24948000000          3308000000   \n",
       "1           -127000000         -36017000000         -7286000000   \n",
       "2           -310000000         -30433000000         -8053000000   \n",
       "3           1927000000         -30585000000         11237000000   \n",
       "4           2394000000         -23153000000           839000000   \n",
       "5            437000000         -24048000000          2769000000   \n",
       "6           2319000000         -25724000000          5155000000   \n",
       "7          -1445000000         -35563000000         -3003000000   \n",
       "8          -1217000000         -26794000000         -3884000000   \n",
       "\n",
       "   free_cash_flow  \n",
       "0     34538375000  \n",
       "1     22498000000  \n",
       "2     20609500000  \n",
       "3     33200125000  \n",
       "4     12308625000  \n",
       "5     21066750000  \n",
       "6     22445750000  \n",
       "7     28817000000  \n",
       "8     20182875000  "
      ]
     },
     "execution_count": 30,
     "metadata": {},
     "output_type": "execute_result"
    }
   ],
   "source": [
    "data_3=pd.DataFrame(response.json()['data']['cash_flow'])\n",
    "data_3"
   ]
  },
  {
   "cell_type": "code",
   "execution_count": 27,
   "id": "d92e1414-686f-406d-9e65-f070ba039921",
   "metadata": {},
   "outputs": [
    {
     "data": {
      "application/vnd.jupyter.widget-view+json": {
       "model_id": "802e32556b914275aa4b175a108a82aa",
       "version_major": 2,
       "version_minor": 0
      },
      "text/plain": [
       "Summarize dataset:   0%|          | 0/5 [00:00<?, ?it/s]"
      ]
     },
     "metadata": {},
     "output_type": "display_data"
    },
    {
     "data": {
      "application/vnd.jupyter.widget-view+json": {
       "model_id": "b27801da908c404d876997c37d8bf717",
       "version_major": 2,
       "version_minor": 0
      },
      "text/plain": [
       "Generate report structure:   0%|          | 0/1 [00:00<?, ?it/s]"
      ]
     },
     "metadata": {},
     "output_type": "display_data"
    },
    {
     "data": {
      "application/vnd.jupyter.widget-view+json": {
       "model_id": "b363bf16c8134c429707ea4be9c437ed",
       "version_major": 2,
       "version_minor": 0
      },
      "text/plain": [
       "Render HTML:   0%|          | 0/1 [00:00<?, ?it/s]"
      ]
     },
     "metadata": {},
     "output_type": "display_data"
    },
    {
     "data": {
      "application/vnd.jupyter.widget-view+json": {
       "model_id": "d2d71801d9384f14bee56a95d24837fd",
       "version_major": 2,
       "version_minor": 0
      },
      "text/plain": [
       "Export report to file:   0%|          | 0/1 [00:00<?, ?it/s]"
      ]
     },
     "metadata": {},
     "output_type": "display_data"
    }
   ],
   "source": [
    "from ydata_profiling import ProfileReport\n",
    "prof = ProfileReport(data)\n",
    "prof.to_file(output_file='Output_2.html')"
   ]
  },
  {
   "cell_type": "code",
   "execution_count": 33,
   "id": "14a97410-e050-4d7f-b91b-92d3890e4a6c",
   "metadata": {},
   "outputs": [
    {
     "data": {
      "application/vnd.jupyter.widget-view+json": {
       "model_id": "3880b9f82eb84019a5a1c8561be21663",
       "version_major": 2,
       "version_minor": 0
      },
      "text/plain": [
       "Summarize dataset:   0%|          | 0/5 [00:00<?, ?it/s]"
      ]
     },
     "metadata": {},
     "output_type": "display_data"
    },
    {
     "data": {
      "application/vnd.jupyter.widget-view+json": {
       "model_id": "e7439d783fe34b858517af222be1250c",
       "version_major": 2,
       "version_minor": 0
      },
      "text/plain": [
       "Generate report structure:   0%|          | 0/1 [00:00<?, ?it/s]"
      ]
     },
     "metadata": {},
     "output_type": "display_data"
    },
    {
     "data": {
      "application/vnd.jupyter.widget-view+json": {
       "model_id": "e0bf2c2113d34507ba4fd4e552025fff",
       "version_major": 2,
       "version_minor": 0
      },
      "text/plain": [
       "Render HTML:   0%|          | 0/1 [00:00<?, ?it/s]"
      ]
     },
     "metadata": {},
     "output_type": "display_data"
    },
    {
     "data": {
      "application/vnd.jupyter.widget-view+json": {
       "model_id": "10103601ef434a769c5bdb68d55f1165",
       "version_major": 2,
       "version_minor": 0
      },
      "text/plain": [
       "Export report to file:   0%|          | 0/1 [00:00<?, ?it/s]"
      ]
     },
     "metadata": {},
     "output_type": "display_data"
    }
   ],
   "source": [
    "from ydata_profiling import ProfileReport\n",
    "prof = ProfileReport(data_1)\n",
    "prof.to_file(output_file='Output_data_1.html')"
   ]
  },
  {
   "cell_type": "code",
   "execution_count": 32,
   "id": "45906c55-5ddc-411b-ad40-19fe6df439c6",
   "metadata": {},
   "outputs": [
    {
     "data": {
      "application/vnd.jupyter.widget-view+json": {
       "model_id": "2caab4b92f054efab3b18d6cff5ba5b5",
       "version_major": 2,
       "version_minor": 0
      },
      "text/plain": [
       "Summarize dataset:   0%|          | 0/5 [00:00<?, ?it/s]"
      ]
     },
     "metadata": {},
     "output_type": "display_data"
    },
    {
     "data": {
      "application/vnd.jupyter.widget-view+json": {
       "model_id": "32cd32466cc34fd69a5a92e3efe0ce4b",
       "version_major": 2,
       "version_minor": 0
      },
      "text/plain": [
       "Generate report structure:   0%|          | 0/1 [00:00<?, ?it/s]"
      ]
     },
     "metadata": {},
     "output_type": "display_data"
    },
    {
     "data": {
      "application/vnd.jupyter.widget-view+json": {
       "model_id": "abfcd0e96efc401792f8c21d836b7c67",
       "version_major": 2,
       "version_minor": 0
      },
      "text/plain": [
       "Render HTML:   0%|          | 0/1 [00:00<?, ?it/s]"
      ]
     },
     "metadata": {},
     "output_type": "display_data"
    },
    {
     "data": {
      "application/vnd.jupyter.widget-view+json": {
       "model_id": "665c9afe2a5d49209c36e0b65c72e977",
       "version_major": 2,
       "version_minor": 0
      },
      "text/plain": [
       "Export report to file:   0%|          | 0/1 [00:00<?, ?it/s]"
      ]
     },
     "metadata": {},
     "output_type": "display_data"
    }
   ],
   "source": [
    "from ydata_profiling import ProfileReport\n",
    "prof = ProfileReport(data_3)\n",
    "prof.to_file(output_file='Output_data3.html')"
   ]
  }
 ],
 "metadata": {
  "kernelspec": {
   "display_name": "Python 3 (ipykernel)",
   "language": "python",
   "name": "python3"
  },
  "language_info": {
   "codemirror_mode": {
    "name": "ipython",
    "version": 3
   },
   "file_extension": ".py",
   "mimetype": "text/x-python",
   "name": "python",
   "nbconvert_exporter": "python",
   "pygments_lexer": "ipython3",
   "version": "3.12.7"
  }
 },
 "nbformat": 4,
 "nbformat_minor": 5
}
